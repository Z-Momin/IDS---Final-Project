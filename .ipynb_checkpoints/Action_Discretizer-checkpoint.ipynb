{
 "cells": [
  {
   "cell_type": "code",
   "execution_count": 1,
   "metadata": {},
   "outputs": [],
   "source": [
    "import pandas as pd\n",
    "import numpy as np\n",
    "import matplotlib.pyplot as plt\n",
    "import os\n",
    "import pickle\n",
    "import gzip"
   ]
  },
  {
   "cell_type": "code",
   "execution_count": 21,
   "metadata": {},
   "outputs": [],
   "source": [
    "path = os.getcwd()\n",
    "with gzip.open(path+'\\\\data\\\\data.pkl.gzip') as dat:\n",
    "    data = pickle.load(dat)"
   ]
  },
  {
   "cell_type": "code",
   "execution_count": 22,
   "metadata": {
    "scrolled": true
   },
   "outputs": [],
   "source": [
    "d = {}  \n",
    "  \n",
    "# Each setting corresponds to a specific action \n",
    "# Here they are labeled arbitrarily because I wasnt sure if theyre exactly right\n",
    "rest = tuple([0,0,0]) \n",
    "right = tuple([1,0,0])\n",
    "acc = tuple([0,1,0])\n",
    "left = tuple([-1,0,0])\n",
    "brake = tuple([0,0,0.2])\n",
    "left_brake = tuple([-1,0,0.2])\n",
    "left_acc = tuple([-1,1,0])\n",
    "right_brake = tuple([1,0,0.2])\n",
    "right_acc = tuple([1,1,0])\n",
    "\n",
    "# Adding values to each key in the dictionary\n",
    "d[rest] = 'Rest'\n",
    "d[right] = 'Right'\n",
    "d[acc] = 'Acc'\n",
    "d[left] = 'Left'\n",
    "d[brake] = 'Brake'\n",
    "d[left_brake] = 'Left_Brake'\n",
    "d[left_acc] = 'Acc_Left'\n",
    "d[right_brake] = 'Right_Brake'\n",
    "d[right_acc] = 'Acc_Right'\n",
    "\n",
    "# Uncomment this if you would like to print the dictionary out\n",
    "\n",
    "# for key, value in d.items(): \n",
    "#     print(key, ':', value)"
   ]
  },
  {
   "cell_type": "code",
   "execution_count": 23,
   "metadata": {},
   "outputs": [],
   "source": [
    "# The compare function will return true if each element of the inputs is the same with 1e-5 tolerance\n",
    "def compare(a , b):\n",
    "    length = len(a)\n",
    "    counter = 0 \n",
    "    for i in range(length):\n",
    "        if np.abs(a[i]-b[i]) < 1e-5:\n",
    "            counter += 1\n",
    "    if counter == length:\n",
    "        return True\n",
    "    else:\n",
    "        return False"
   ]
  },
  {
   "cell_type": "code",
   "execution_count": 24,
   "metadata": {},
   "outputs": [],
   "source": [
    "# Here discretized_action is the list of action names instead of numbers \n",
    "discretized_action = []\n",
    "keys = list(d.keys())\n",
    "for i in range(len(data['action'])):\n",
    "    for j in range(len(keys)):\n",
    "        if compare(data['action'][i], keys[j]):\n",
    "            discretized_action.append(d.get(tuple(data['action'][i])))"
   ]
  },
  {
   "cell_type": "code",
   "execution_count": null,
   "metadata": {},
   "outputs": [],
   "source": []
  }
 ],
 "metadata": {
  "kernelspec": {
   "display_name": "Python 3",
   "language": "python",
   "name": "python3"
  },
  "language_info": {
   "codemirror_mode": {
    "name": "ipython",
    "version": 3
   },
   "file_extension": ".py",
   "mimetype": "text/x-python",
   "name": "python",
   "nbconvert_exporter": "python",
   "pygments_lexer": "ipython3",
   "version": "3.8.5"
  }
 },
 "nbformat": 4,
 "nbformat_minor": 4
}
